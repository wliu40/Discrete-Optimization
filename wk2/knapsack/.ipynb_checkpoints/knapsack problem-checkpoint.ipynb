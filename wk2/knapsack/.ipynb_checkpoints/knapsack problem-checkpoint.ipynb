{
 "cells": [
  {
   "cell_type": "code",
   "execution_count": 1,
   "id": "9ddedf04",
   "metadata": {},
   "outputs": [
    {
     "name": "stdout",
     "output_type": "stream",
     "text": [
      "220\n"
     ]
    }
   ],
   "source": [
    "\n",
    "# driver code\n",
    "val = [60, 100, 120 ]\n",
    "wt = [10, 20, 30 ]\n",
    "W = 50\n",
    "n = len(val)\n",
    " \n",
    "# We initialize the matrix with -1 at first.\n",
    "t = [[-1 for i in range(W + 1)] for j in range(n + 1)]\n",
    " \n",
    " \n",
    "def knapsack(wt, val, W, n):\n",
    " \n",
    "    # base conditions\n",
    "    if n == 0 or W == 0:\n",
    "        return 0\n",
    "    if t[n][W] != -1:\n",
    "        return t[n][W]\n",
    " \n",
    "    # choice diagram code\n",
    "    if wt[n-1] <= W:\n",
    "        t[n][W] = max(\n",
    "            val[n-1] + knapsack(\n",
    "                wt, val, W-wt[n-1], n-1),\n",
    "            knapsack(wt, val, W, n-1))\n",
    "        return t[n][W]\n",
    "    elif wt[n-1] > W:\n",
    "        t[n][W] = knapsack(wt, val, W, n-1)\n",
    "        return t[n][W]\n",
    " \n",
    " \n",
    "print(knapsack(wt, val, W, n))\n",
    " \n",
    "# This code is contributed by Prosun Kumar Sarkar"
   ]
  },
  {
   "cell_type": "code",
   "execution_count": null,
   "id": "4ece4567",
   "metadata": {},
   "outputs": [],
   "source": []
  }
 ],
 "metadata": {
  "kernelspec": {
   "display_name": "Python 3 (ipykernel)",
   "language": "python",
   "name": "python3"
  },
  "language_info": {
   "codemirror_mode": {
    "name": "ipython",
    "version": 3
   },
   "file_extension": ".py",
   "mimetype": "text/x-python",
   "name": "python",
   "nbconvert_exporter": "python",
   "pygments_lexer": "ipython3",
   "version": "3.9.7"
  }
 },
 "nbformat": 4,
 "nbformat_minor": 5
}
